{
 "cells": [
  {
   "cell_type": "code",
   "execution_count": 7,
   "metadata": {},
   "outputs": [],
   "source": [
    "%matplotlib inline\n",
    "\n",
    "import os\n",
    "import json\n",
    "import cv2\n",
    "import math\n",
    "import matplotlib\n",
    "import numpy as np\n",
    "import matplotlib.pyplot as plt\n",
    "from IPython.display import Image"
   ]
  },
  {
   "cell_type": "code",
   "execution_count": 123,
   "metadata": {},
   "outputs": [],
   "source": [
    "joint_to_limb_heatmap_relationship = [\n",
    "    [1,8],   [1,2],   [1,5],   [2,3],   [3,4],\n",
    "    [5,6],   [6,7],   [8,9],   [9,10],  [10,11],\n",
    "    [8,12],  [12,13], [13,14], [1,0],   [0,15],\n",
    "    [15,17], [0,16],  [16,18]]\n",
    "\n",
    "colors = [\n",
    "    [255, 0, 0], [255, 85, 0], [255, 170, 0], [255, 255, 0], [170, 255, 0],\n",
    "    [85, 255, 0], [0, 255, 0], [0, 255, 85], [0, 255, 170], [0, 255, 255],\n",
    "    [0, 170, 255], [0, 85, 255], [0, 0, 255], [85, 0, 255], [170, 0, 255],\n",
    "    [255, 0, 255], [255, 0, 170], [255, 0, 85], [255, 0, 0], [255,0,0],\n",
    "    [255,0,0], [255,0,0], [255,0,0], [255,0,0]]\n",
    "\n",
    "\n",
    "def imshow(image):\n",
    "    plt.imshow(image[:,:,[2,1,0]].astype(np.uint8))\n",
    "    plt.show()\n",
    "\n",
    "def add_pose_to_canvas(person_id, coors, canvas, limb_thickness=4):\n",
    "    limb_type = 0\n",
    "    labeled = False\n",
    "    for joint_relation in  joint_to_limb_heatmap_relationship: # [1, 8] for example\n",
    "        joint_coords = coors[joint_relation] # use it as indices \n",
    "        if 0 in joint_coords: # if a keypoint has 0\n",
    "            # ignore keypoints that are not predicted\n",
    "            limb_type += 1\n",
    "            continue\n",
    "        for joint in joint_coords:  # Draw circles at every joint\n",
    "            if not labeled:\n",
    "                font = cv2.FONT_HERSHEY_SIMPLEX\n",
    "                cv2.putText(canvas, person_id,\n",
    "                            tuple(joint[0:2].astype(int)), font,\n",
    "                            2, (0,0,0), thickness=5)\n",
    "                labeled = True\n",
    "            cv2.circle(canvas, tuple(joint[0:2].astype(\n",
    "                        int)), 4, (0,0,0), thickness=-1)\n",
    "        coords_center = tuple(\n",
    "                    np.round(np.mean(joint_coords, 0)).astype(int))\n",
    "        limb_dir = joint_coords[0, :] - joint_coords[1, :]\n",
    "        limb_length = np.linalg.norm(limb_dir)\n",
    "        angle = math.degrees(math.atan2(limb_dir[1], limb_dir[0]))\n",
    "        polygon = cv2.ellipse2Poly(\n",
    "                    coords_center, (int(limb_length / 2), limb_thickness), int(angle), 0, 360, 1)\n",
    "        cv2.fillConvexPoly(canvas, polygon, colors[limb_type])\n",
    "        limb_type += 1\n",
    "    return canvas\n",
    "\n",
    "    \n",
    "def draw_pose_figure(person_id, coors, height=1500, width=1500, limb_thickness=4):\n",
    "    canvas = np.ones([height,width,3])*255\n",
    "    canvas = canvas.astype(np.uint8)\n",
    "    limb_type = 0\n",
    "    return add_pose_to_canvas(person_id, coors, canvas, limb_thickness)\n"
   ]
  },
  {
   "cell_type": "code",
   "execution_count": 6,
   "metadata": {},
   "outputs": [],
   "source": [
    "input_dir = '/Users/will.i.liam/Desktop/final_project/openpose/output/'\n",
    "output_dir = '/Users/will.i.liam/Desktop/final_project/phoan/images/'\n",
    "json_files = [pos_json for pos_json in os.listdir(input_dir) if \n",
    "              pos_json.endswith('.json')]\n",
    "\n",
    "json_files = sorted(json_files)"
   ]
  },
  {
   "cell_type": "code",
   "execution_count": 81,
   "metadata": {},
   "outputs": [],
   "source": [
    "frame = 376"
   ]
  },
  {
   "cell_type": "code",
   "execution_count": 82,
   "metadata": {},
   "outputs": [
    {
     "name": "stdout",
     "output_type": "stream",
     "text": [
      "Person 1 ID\n",
      "[0]\n"
     ]
    }
   ],
   "source": [
    "frame = 376\n",
    "data = json.load(open(input_dir + json_files[frame]))\n",
    "person_1 = 0\n",
    "person_id_1 = str(person_1) + \", \" + str(data['people'][person_1]['person_id'])\n",
    "a_keys_and_confs = np.array(data['people'][person_1]['pose_keypoints_2d']).reshape(-1, 3)\n",
    "\n",
    "print(\"Person 1 ID\")\n",
    "print(data['people'][person_1]['person_id'])\n",
    "\n",
    "# plt.imshow(cv2.cvtColor(image, cv2.COLOR_BGR2RGB))"
   ]
  },
  {
   "cell_type": "code",
   "execution_count": 31,
   "metadata": {},
   "outputs": [
    {
     "name": "stdout",
     "output_type": "stream",
     "text": [
      "Person 2 ID\n",
      "[80]\n"
     ]
    }
   ],
   "source": [
    "data = json.load(open(input_dir + json_files[frame+1]))\n",
    "person_2 = 0\n",
    "person_id_2 = str(person_2) + \", \" + str(data['people'][person_2]['person_id'])\n",
    "b_keys_and_confs = np.array(data['people'][person_2]['pose_keypoints_2d']).reshape(-1, 3)\n",
    "print(\"Person 2 ID\")\n",
    "print(data['people'][person_2]['person_id'])\n"
   ]
  },
  {
   "cell_type": "code",
   "execution_count": 35,
   "metadata": {},
   "outputs": [
    {
     "name": "stdout",
     "output_type": "stream",
     "text": [
      "9.778973399999957\n"
     ]
    }
   ],
   "source": [
    "def distance(key_a, key_b, conf_a, conf_b):\n",
    "    confs = conf_a * conf_b > 0\n",
    "    confs = confs.reshape(-1, 1)\n",
    "    \n",
    "    print(np.sum(((key_a - key_b)**2)*(confs)) / np.sum(confs))\n",
    "\n",
    "distance(a_keys_and_confs[:, :2],\n",
    "         b_keys_and_confs[:, :2],\n",
    "         a_keys_and_confs[:, 2],\n",
    "         b_keys_and_confs[:, 2])\n",
    "\n"
   ]
  },
  {
   "cell_type": "code",
   "execution_count": 33,
   "metadata": {},
   "outputs": [
    {
     "data": {
      "image/png": "[encoded data removed]",
      "text/plain": [
       "<Figure size 432x288 with 1 Axes>"
      ]
     },
     "metadata": {
      "needs_background": "light"
     },
     "output_type": "display_data"
    }
   ],
   "source": [
    "canvas = draw_pose_figure(person_id_1, \n",
    "                          a_keys_and_confs[:, :2])\n",
    "imshow(canvas)\n",
    "\n",
    "# read in a json file\n",
    "\n",
    "# these preprocessing steps\n",
    "\"\"\"\n",
    "The interpolate\n",
    "fills the missing values by calculating the mean of the two neighbor values. \n",
    "\n",
    "If the root landmark is missing, then the target is not\n",
    "correctly detected. Thus, the pose is discarded;\n",
    "• If more than 8 body landmarks are missing, the pose is\n",
    "assumed to be too poor to perform any HAR. Thus, the\n",
    "pose is discarded;\n",
    "• If enough landmarks are available but some of them are\n",
    "missing, then we can approximate occasional missing\n",
    "data using spacial consistency, which means that missing\n",
    "landmarks are estimated from coordinates of the available\n",
    "landmarks;\n",
    "• Persistent missing landmarks can be guessed by exploiting left and right side body symmetry;\n",
    "\n",
    "we normalized x and y distances by the width and height\n",
    "of the ground-truth bounding box around the infant.\n",
    "\n",
    "We first removed missing data by applying linear interpolation to the raw time series for each body landmark. We then removed\n",
    "outliers by using a rolling-median filter with a smoothing window of 1 second. In order\n",
    "to obtain smooth signals, we then performed smoothing using a rolling-mean filter with a\n",
    "smoothing window of 1 second. Outlier removal and smoothing provided a cleaner signal for\n",
    "the extraction of kinematic variables\n",
    "\n",
    "Next, we\n",
    "normalized the landmark coordinates within each frame, by subtracting a reference landmark\n",
    "(the neck) and dividing by a reference distance (the trunk length)\n",
    "\n",
    "\n",
    "Measuring movement in\n",
    "body-centered coordinates allowed us to compensate for the effects of camera movement in\n",
    "YouTube videos.\n",
    "\n",
    "We rotated the upper-body landmarks relative to the angle of the\n",
    "left and right shoulders with respect to the midpoint between the shoulders. We rotated\n",
    "the lower-body landmarks relative to the angle of the left and right hip joints with respect\n",
    "to the midpoint between the hip joints. \n",
    "\n",
    "basically, make the joints relative to each other instead of to the camera\n",
    "\n",
    "\"\"\"\n",
    "\n"
   ]
  },
  {
   "cell_type": "code",
   "execution_count": 146,
   "metadata": {},
   "outputs": [
    {
     "data": {
      "image/png": "[encoded data removed]",
      "text/plain": [
       "<Figure size 432x288 with 1 Axes>"
      ]
     },
     "metadata": {
      "needs_background": "light"
     },
     "output_type": "display_data"
    }
   ],
   "source": [
    "# normalized the landmark coordinates within each frame, \n",
    "# by subtracting a reference landmark (the neck) \n",
    "# and dividing by a reference distance (the trunk length)\n",
    "\n",
    "def normalize_in_frame(frame):\n",
    "    \"\"\"\n",
    "    expects frame in the order of openpose outputs\n",
    "    [21, 2] where 2 corresponds to x- y- coordinates\n",
    "    \n",
    "    reduces the pixel coordinate size of each coordinate\n",
    "    \"\"\"\n",
    "    neck = frame[1]\n",
    "    subtracted = frame - neck\n",
    "    trunk_length = np.sqrt(np.sum( (subtracted[8] - subtracted[1]) ** 2))\n",
    "    divided = frame / trunk_length\n",
    "    return divided\n",
    "\n",
    "def adjust_to_canvas(poses):\n",
    "    poses = poses * 125\n",
    "    return poses, np.ones([np.int(poses[8][1] * 2),\n",
    "                    np.int(poses[8][0] * 2), 3]) * 255\n",
    "\n",
    "frame = 1020\n",
    "data = json.load(open(input_dir + json_files[frame]))\n",
    "person_1 = 0\n",
    "person_id_1 = str(person_1) + \", \" + str(data['people'][person_1]['person_id'])\n",
    "a_keys_and_confs = np.array(data['people'][person_1]['pose_keypoints_2d']).reshape(-1, 3)\n",
    "divided = normalize_in_frame(a_keys_and_confs[:, :2])\n",
    "adjusted_poses, adjusted_canvas = adjust_to_canvas(divided)\n",
    "# divided = divided * 100\n",
    "adjusted_canvas = add_pose_to_canvas(person_id_1, \n",
    "                                     adjusted_poses, adjusted_canvas)\n",
    "results = np.hstack([divided, a_keys_and_confs[:, :2]])\n",
    "imshow(adjusted_canvas)"
   ]
  },
  {
   "cell_type": "code",
   "execution_count": 83,
   "metadata": {},
   "outputs": [
    {
     "data": {
      "text/plain": [
       "<matplotlib.collections.PathCollection at 0x12adc65d0>"
      ]
     },
     "execution_count": 83,
     "metadata": {},
     "output_type": "execute_result"
    },
    {
     "data": {
      "image/png": "[encoded data removed]",
      "text/plain": [
       "<Figure size 432x288 with 1 Axes>"
      ]
     },
     "metadata": {
      "needs_background": "light"
     },
     "output_type": "display_data"
    }
   ],
   "source": [
    "plt.figure()\n",
    "plt.scatter(a_keys_and_confs[:, 0], a_keys_and_confs[:, 1])"
   ]
  },
  {
   "cell_type": "code",
   "execution_count": 84,
   "metadata": {},
   "outputs": [
    {
     "name": "stdout",
     "output_type": "stream",
     "text": [
      "[0. 0.]\n",
      "[  2.792 164.925]\n"
     ]
    },
    {
     "data": {
      "image/png": "[encoded data removed]",
      "text/plain": [
       "<Figure size 432x288 with 1 Axes>"
      ]
     },
     "metadata": {
      "needs_background": "light"
     },
     "output_type": "display_data"
    },
    {
     "data": {
      "text/plain": [
       "<matplotlib.collections.PathCollection at 0x12b0db250>"
      ]
     },
     "execution_count": 84,
     "metadata": {},
     "output_type": "execute_result"
    },
    {
     "data": {
      "image/png": "[encoded data removed]",
      "text/plain": [
       "<Figure size 432x288 with 1 Axes>"
      ]
     },
     "metadata": {
      "needs_background": "light"
     },
     "output_type": "display_data"
    }
   ],
   "source": [
    "frame = a_keys_and_confs[:, :2]\n",
    "neck = frame[1]\n",
    "\n",
    "subtracted = frame - neck\n",
    "\n",
    "print(subtracted[1])\n",
    "print(subtracted[8])\n",
    "\n",
    "trunk_length = np.sqrt(np.sum( (subtracted[8] - subtracted[1]) ** 2))\n",
    "\n",
    "divided = frame / trunk_length\n",
    "\n",
    "dims = 5\n",
    "adjusted_canvas = np.ones([dims, dims, 3]) * 255\n",
    "\n",
    "adjusted_canvas = add_pose_to_canvas(person_id_1, \n",
    "                                     divided, adjusted_canvas)\n",
    "imshow(adjusted_canvas)\n",
    "\n",
    "plt.figure()\n",
    "plt.scatter(divided[:, 0], divided[:, 1])"
   ]
  },
  {
   "cell_type": "code",
   "execution_count": null,
   "metadata": {},
   "outputs": [],
   "source": []
  }
 ],
 "metadata": {
  "kernelspec": {
   "display_name": "Python 3",
   "language": "python",
   "name": "python3"
  },
  "language_info": {
   "codemirror_mode": {
    "name": "ipython",
    "version": 3
   },
   "file_extension": ".py",
   "mimetype": "text/x-python",
   "name": "python",
   "nbconvert_exporter": "python",
   "pygments_lexer": "ipython3",
   "version": "3.7.6"
  }
 },
 "nbformat": 4,
 "nbformat_minor": 4
}
