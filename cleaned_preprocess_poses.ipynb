{
 "cells": [
  {
   "cell_type": "markdown",
   "metadata": {},
   "source": [
    "# Preprocess Poses\n",
    "\n",
    "Given poses from OpenPose, preprocess them for the model to train on"
   ]
  },
  {
   "cell_type": "markdown",
   "metadata": {},
   "source": [
    "## Import Libraries"
   ]
  },
  {
   "cell_type": "code",
   "execution_count": 2,
   "metadata": {},
   "outputs": [],
   "source": [
    "%matplotlib inline\n",
    "\n",
    "import os\n",
    "import json\n",
    "import cv2\n",
    "import math\n",
    "import matplotlib\n",
    "import numpy as np\n",
    "import matplotlib.pyplot as plt\n",
    "from IPython.display import Image\n",
    "from scipy.ndimage import gaussian_filter1d\n",
    "from scipy.signal import medfilt#2d\n",
    "from scipy import signal"
   ]
  },
  {
   "cell_type": "markdown",
   "metadata": {},
   "source": [
    "## Define Joint Relationships \n",
    "\n",
    "And other functions to help us draw our poses later"
   ]
  },
  {
   "cell_type": "code",
   "execution_count": 3,
   "metadata": {},
   "outputs": [],
   "source": [
    "joint_to_limb_heatmap_relationship = [\n",
    "    [1,8],   [1,2],   [1,5],   [2,3],   [3,4],\n",
    "    [5,6],   [6,7],   [8,9],   [9,10],  [10,11],\n",
    "    [8,12],  [12,13], [13,14], [1,0],   [0,15],\n",
    "    [15,17], [0,16],  [16,18]]\n",
    "\n",
    "colors = [\n",
    "    [255, 0, 0], [255, 85, 0], [255, 170, 0], [255, 255, 0], [170, 255, 0],\n",
    "    [85, 255, 0], [0, 255, 0], [0, 255, 85], [0, 255, 170], [0, 255, 255],\n",
    "    [0, 170, 255], [0, 85, 255], [0, 0, 255], [85, 0, 255], [170, 0, 255],\n",
    "    [255, 0, 255], [255, 0, 170], [255, 0, 85], [255, 0, 0], [255,0,0],\n",
    "    [255,0,0], [255,0,0], [255,0,0], [255,0,0]]\n",
    "\n",
    "\n",
    "def imshow(image):\n",
    "    plt.imshow(image[:,:,[2,1,0]].astype(np.uint8))\n",
    "    plt.show()\n",
    "\n",
    "def add_pose_to_canvas(person_id, coors, canvas, limb_thickness=4):\n",
    "    limb_type = 0\n",
    "    labeled = False\n",
    "    for joint_relation in  joint_to_limb_heatmap_relationship: # [1, 8] for example\n",
    "        joint_coords = coors[joint_relation] # use it as indices \n",
    "        if 0 in joint_coords: # if a keypoint has 0\n",
    "            # ignore keypoints that are not predicted\n",
    "            limb_type += 1\n",
    "            continue\n",
    "        for joint in joint_coords:  # Draw circles at every joint\n",
    "            if not labeled:\n",
    "                font = cv2.FONT_HERSHEY_SIMPLEX\n",
    "                cv2.putText(canvas, person_id,\n",
    "                            tuple(joint[0:2].astype(int)), font,\n",
    "                            2, (0,0,0), thickness=5)\n",
    "                labeled = True\n",
    "            cv2.circle(canvas, tuple(joint[0:2].astype(\n",
    "                        int)), 4, (0,0,0), thickness=-1)\n",
    "        coords_center = tuple(\n",
    "                    np.round(np.mean(joint_coords, 0)).astype(int))\n",
    "        limb_dir = joint_coords[0, :] - joint_coords[1, :]\n",
    "        limb_length = np.linalg.norm(limb_dir)\n",
    "        angle = math.degrees(math.atan2(limb_dir[1], limb_dir[0]))\n",
    "        polygon = cv2.ellipse2Poly(\n",
    "                    coords_center, (int(limb_length / 2), limb_thickness), int(angle), 0, 360, 1)\n",
    "        cv2.fillConvexPoly(canvas, polygon, colors[limb_type])\n",
    "        limb_type += 1\n",
    "    return canvas\n",
    "\n",
    "    \n",
    "def draw_pose_figure(person_id, coors, height=1500, width=1500, limb_thickness=4):\n",
    "    canvas = np.ones([height,width,3])*255\n",
    "    canvas = canvas.astype(np.uint8)\n",
    "    limb_type = 0\n",
    "    return add_pose_to_canvas(person_id, coors, canvas, limb_thickness)\n"
   ]
  },
  {
   "cell_type": "markdown",
   "metadata": {},
   "source": [
    "## Get the relevant input and output directories\n",
    "\n",
    "Input dir should be directory of json files containing pose info\n",
    "\n",
    "Output_dir will be directory we save the final json to"
   ]
  },
  {
   "cell_type": "code",
   "execution_count": 4,
   "metadata": {},
   "outputs": [],
   "source": [
    "input_dir = '/Users/will.i.liam/Desktop/final_project/openpose/output/'\n",
    "output_dir = '/Users/will.i.liam/Desktop/final_project/phoan/images/'\n",
    "json_files = [pos_json for pos_json in os.listdir(input_dir) if \n",
    "              pos_json.endswith('.json')]\n",
    "\n",
    "json_files = sorted(json_files)"
   ]
  },
  {
   "cell_type": "code",
   "execution_count": 5,
   "metadata": {},
   "outputs": [],
   "source": [
    "frame = 376"
   ]
  },
  {
   "cell_type": "markdown",
   "metadata": {},
   "source": [
    "## Either allow the user to specify which pose to pick per frame, or use distance algorithm to determine the next most similar pose to the current one"
   ]
  },
  {
   "cell_type": "code",
   "execution_count": 6,
   "metadata": {},
   "outputs": [],
   "source": [
    "def distance(key_a, key_b, conf_a, conf_b):\n",
    "    confs = conf_a * conf_b > 0\n",
    "    confs = confs.reshape(-1, 1)\n",
    "    \n",
    "    return np.sum(((key_a - key_b)**2)*(confs)) / np.sum(confs)"
   ]
  },
  {
   "cell_type": "code",
   "execution_count": 173,
   "metadata": {},
   "outputs": [
    {
     "data": {
      "image/png": "[encoded data removed]",
      "text/plain": [
       "<Figure size 432x288 with 1 Axes>"
      ]
     },
     "metadata": {
      "needs_background": "light"
     },
     "output_type": "display_data"
    }
   ],
   "source": [
    "# normalized the landmark coordinates within each frame, \n",
    "# by subtracting a reference landmark (the neck) \n",
    "# and dividing by a reference distance (the trunk length)\n",
    "\n",
    "def normalize_in_frame(frame):\n",
    "    \"\"\"\n",
    "    expects frame in the order of openpose outputs\n",
    "    [21, 2] where 2 corresponds to x- y- coordinates\n",
    "    \n",
    "    reduces the pixel coordinate size of each coordinate\n",
    "    \"\"\"\n",
    "    neck = frame[1]\n",
    "    subtracted = frame - neck\n",
    "    trunk_length = np.sqrt(np.sum( (subtracted[8] - subtracted[1]) ** 2))\n",
    "    divided = frame / trunk_length\n",
    "    return divided\n",
    "\n",
    "def adjust_to_canvas(poses):\n",
    "    poses = poses * 125\n",
    "    return poses, np.ones([np.int(poses[8][1] * 2),\n",
    "                    np.int(poses[8][0] * 2), 3]) * 255\n",
    "\n",
    "frame = 2000\n",
    "data = json.load(open(input_dir + json_files[frame]))\n",
    "person_1 = 0\n",
    "person_id_1 = str(person_1) + \", \" + str(data['people'][person_1]['person_id'])\n",
    "a_keys_and_confs = np.array(data['people'][person_1]['pose_keypoints_2d']).reshape(-1, 3)\n",
    "# normalized\n",
    "divided = normalize_in_frame(a_keys_and_confs[:, :2])\n",
    "adjusted_poses = divided * 125\n",
    "canvas = draw_pose_figure(person_id_1, \n",
    "                          adjusted_poses)\n",
    "results = np.hstack([divided, a_keys_and_confs[:, :2]])\n",
    "imshow(canvas)"
   ]
  },
  {
   "cell_type": "markdown",
   "metadata": {},
   "source": [
    "Take in frames 370 - 670 of p_hoan: at 30 fps, 300 frames adds up to around 10 seconds of video"
   ]
  },
  {
   "cell_type": "code",
   "execution_count": 7,
   "metadata": {},
   "outputs": [],
   "source": [
    "frames = np.arange(370, 670)\n",
    "data = []\n",
    "\n",
    "for frame in frames:\n",
    "    poses = json.load(open(input_dir + json_files[frame]))\n",
    "    data.append(poses['people'][0])\n",
    "\n",
    "keys_and_confs_per_frame = []\n",
    "for datum in data:\n",
    "    keys_and_confs_per_frame.append(np.array(datum['pose_keypoints_2d']).reshape(-1, 3))\n",
    "\n",
    "canvases = []\n",
    "for keys_and_confs in keys_and_confs_per_frame:\n",
    "    person_id = str(0) + \", \" + str([0])\n",
    "    canvases.append(draw_pose_figure(person_id,\n",
    "                                    keys_and_confs[:, :2]))"
   ]
  },
  {
   "cell_type": "code",
   "execution_count": 519,
   "metadata": {},
   "outputs": [],
   "source": [
    "output_filename = 'longer_pre_smoothing.mp4'\n",
    "height, width, layers = canvases[0].shape\n",
    "size = (width,height)\n",
    "\n",
    "fourcc_format = cv2.VideoWriter_fourcc(*'mp4v')\n",
    "out = cv2.VideoWriter(output_filename, fourcc_format, 30, size)\n",
    " \n",
    "for i in range(len(canvases)):\n",
    "    out.write(canvases[i])\n",
    "out.release()\n"
   ]
  },
  {
   "cell_type": "code",
   "execution_count": 520,
   "metadata": {},
   "outputs": [
    {
     "name": "stdout",
     "output_type": "stream",
     "text": [
      "(300, 21, 3)\n"
     ]
    }
   ],
   "source": [
    "# keys_and_confs_per_frame = []\n",
    "# an array of multiple 21 x 3\n",
    "np_keys_and_confs_per_frame = np.array(keys_and_confs_per_frame)\n",
    "smoothed = np.copy(np_keys_and_confs_per_frame)\n",
    "print(smoothed.shape)"
   ]
  },
  {
   "cell_type": "code",
   "execution_count": 529,
   "metadata": {},
   "outputs": [],
   "source": [
    "smoothed_no_interp = np.copy(np_keys_and_confs_per_frame)\n",
    "window_length, polyorder = 13, 2\n",
    "\n",
    "# kernel = cv2.getGaussianKernel(ksize=(1,1),sigma=2)\n",
    "# kernel = np.transpose(kernel)\n",
    "# oneD = cv2.filter2D(imgIn, -1, kernel)\n",
    "\n",
    "# or use GaussianBlur\n",
    "# cv2.GaussianBlur(src, ksize, sigmaX[, dst[, sigmaY[, borderType]]])\n",
    "# cv2.GaussianBlur(src, ksize=(1,1))\n",
    "\n",
    "# we need our dataset in the order of (frame, body part, x- y-coordinates)\n",
    "# iterate through all frames, isolate body part and x- y- coordinate\n",
    "for i in range(21): # evaluate per body part\n",
    "    # x or y coordinate\n",
    "    for j in range(2):\n",
    "        a_slice = np_keys_and_confs_per_frame[:, i, j]\n",
    "        orig_shape = a_slice.shape\n",
    "        a_slice = a_slice.reshape(-1)\n",
    "        # smoothed_slice = gaussian_filter1d(a_slice, 100)\n",
    "        med_filtered_slice = medfilt(a_slice)\n",
    "        # smoothed_slice = signal.savgol_filter(med_filtered_slice, window_length, polyorder)\n",
    "        smoothed_slice = cv2.GaussianBlur(med_filtered_slice, (7, 7), 100)\n",
    "        smoothed_no_interp[:, i, j] = smoothed_slice.reshape(orig_shape)"
   ]
  },
  {
   "cell_type": "code",
   "execution_count": 530,
   "metadata": {},
   "outputs": [],
   "source": [
    "smoothed_no_interp_canvases = []\n",
    "for smoothed_keys_and_confs in smoothed_no_interp:\n",
    "    person_id = str(0) + \", \" + str([0])\n",
    "    smoothed_no_interp_canvases.append(draw_pose_figure(person_id,\n",
    "                                                        smoothed_keys_and_confs[:, :2]))"
   ]
  },
  {
   "cell_type": "code",
   "execution_count": 531,
   "metadata": {},
   "outputs": [],
   "source": [
    "output_filename = 'longer_smoothing_no_interp.mp4'\n",
    "height, width, layers = smoothed_no_interp_canvases[0].shape\n",
    "size = (width,height)\n",
    "\n",
    "fourcc_format = cv2.VideoWriter_fourcc(*'mp4v')\n",
    "out = cv2.VideoWriter(output_filename, fourcc_format, 30, size)\n",
    " \n",
    "for i in range(len(smoothed_no_interp_canvases)):\n",
    "    out.write(smoothed_no_interp_canvases[i])\n",
    "out.release()"
   ]
  },
  {
   "cell_type": "markdown",
   "metadata": {},
   "source": [
    "note that their example is just x position and velocity\n",
    "but we'll need x position y position and x velocity y velocity"
   ]
  },
  {
   "cell_type": "code",
   "execution_count": 440,
   "metadata": {},
   "outputs": [
    {
     "name": "stdout",
     "output_type": "stream",
     "text": [
      "[786.447 786.452 789.167 789.287 789.296   0.    795.251 798.09  806.872\n",
      " 809.867 812.833 815.825 824.66  833.272 836.353 839.401 851.057 857.055\n",
      " 862.935 877.518 883.611 898.142 907.043 915.888 927.642 933.566 948.147\n",
      " 954.081 962.932 974.76 ]\n",
      "None\n",
      "[786.4519800796812, 433.0300199203187]\n",
      "[789.1562259410919, 433.10370642361386]\n",
      "[789.2904079361014, 433.16202008834125]\n",
      "[789.2996213950498, 433.17810350181395]\n",
      "[792.2887311893062, 430.1543797570764]\n",
      "[795.2505361332397, 427.2132772143813]\n",
      "[798.0886964696806, 424.3589319410451]\n",
      "[806.7600288544443, 418.4937662053538]\n",
      "[809.9028931582784, 415.4778822294915]\n",
      "[812.864668314688, 412.69449536956967]\n",
      "[815.9093996101677, 412.4900492983572]\n",
      "[820.5354515932045, 407.7865097460192]\n",
      "[836.80952845405, 416.55637775986224]\n",
      "[835.1461931012581, 411.797695545889]\n",
      "[839.1091284483192, 412.56057353737066]\n",
      "[872.1458221643046, 399.28401999313564]\n",
      "[860.2079669784197, 405.5822792015752]\n",
      "[863.898782480542, 403.34078740516634]\n",
      "[872.7428389785754, 396.1022685032807]\n",
      "[881.632586981933, 388.9141523241322]\n",
      "[894.5268178366995, 381.8454662250479]\n",
      "[905.3343302415781, 370.0802809982707]\n",
      "[915.0788672167222, 361.47351320751966]\n",
      "[925.9137427484211, 352.6580439385872]\n",
      "[934.3535956543266, 349.73333928449114]\n",
      "[945.8275683907214, 345.6987223451672]\n",
      "[954.7435425462463, 346.9201250154521]\n",
      "[963.5476265590459, 349.8231235700861]\n",
      "[973.840335278089, 355.0643181034738]\n"
     ]
    }
   ],
   "source": [
    "copy = np.copy(np_keys_and_confs_per_frame)\n",
    "original = copy[5, 3, 0]\n",
    "np_keys_and_confs_per_frame[5, 3, 0] = 0\n",
    "\n",
    "missing_coord = 0\n",
    "frames = np.where(np_keys_and_confs_per_frame[:, 3, 0] != 0)[0]\n",
    "actual_coords = [0]\n",
    "print(np_keys_and_confs_per_frame[:, 3, 0])\n",
    "interpolated_x = np.interp(np.arange(30), frames, np_keys_and_confs_per_frame[:, 3, 0][frames])\n",
    "interpolated_y = np.interp(np.arange(30), frames, np_keys_and_confs_per_frame[:, 3, 1][frames])\n",
    "# apply Kalman\n",
    "for i in range(30):\n",
    "    x = interpolated_x[i]\n",
    "    y = interpolated_y[i]\n",
    "    print(KF(x, y, i+1))"
   ]
  },
  {
   "cell_type": "code",
   "execution_count": 527,
   "metadata": {},
   "outputs": [],
   "source": [
    "smoothed = np.copy(np_keys_and_confs_per_frame)\n",
    "\n",
    "for i in range(21): # evaluate per body part\n",
    "    # x or y coordinate\n",
    "    for j in range(2):\n",
    "        a_slice = np_keys_and_confs_per_frame[:, i, j]\n",
    "        orig_shape = a_slice.shape\n",
    "        a_slice = a_slice.reshape(-1)\n",
    "        \n",
    "        frames = np.where(a_slice != 0)[0]\n",
    "        interpolated = np.interp(np.arange(orig_shape[0]), frames, a_slice[frames])\n",
    "        # smoothed_slice = gaussian_filter1d(a_slice, 100)\n",
    "        med_filtered_slice = medfilt(interpolated)\n",
    "        # smoothed_slice = signal.savgol_filter(med_filtered_slice, window_length, polyorder)\n",
    "        smoothed_slice = cv2.GaussianBlur(med_filtered_slice, (7, 7), 100)\n",
    "        smoothed[:, i, j] = smoothed_slice.reshape(orig_shape)"
   ]
  },
  {
   "cell_type": "code",
   "execution_count": 528,
   "metadata": {},
   "outputs": [],
   "source": [
    "interpolated_canvases = []\n",
    "for k_c in smoothed:\n",
    "    person_id = str(0) + \", \" + str([0])\n",
    "    interpolated_canvases.append(draw_pose_figure(person_id,\n",
    "                                                  k_c[:, :2]))\n",
    "    \n",
    "output_filename = 'longer_smoothed_interp.mp4'\n",
    "height, width, layers = interpolated_canvases[0].shape\n",
    "size = (width,height)\n",
    "\n",
    "fourcc_format = cv2.VideoWriter_fourcc(*'mp4v')\n",
    "out = cv2.VideoWriter(output_filename, fourcc_format, 30, size)\n",
    " \n",
    "for i in range(len(interpolated_canvases)):\n",
    "    out.write(interpolated_canvases[i])\n",
    "out.release()"
   ]
  },
  {
   "cell_type": "code",
   "execution_count": null,
   "metadata": {},
   "outputs": [],
   "source": []
  }
 ],
 "metadata": {
  "kernelspec": {
   "display_name": "Python 3",
   "language": "python",
   "name": "python3"
  },
  "language_info": {
   "codemirror_mode": {
    "name": "ipython",
    "version": 3
   },
   "file_extension": ".py",
   "mimetype": "text/x-python",
   "name": "python",
   "nbconvert_exporter": "python",
   "pygments_lexer": "ipython3",
   "version": "3.7.6"
  }
 },
 "nbformat": 4,
 "nbformat_minor": 4
}
